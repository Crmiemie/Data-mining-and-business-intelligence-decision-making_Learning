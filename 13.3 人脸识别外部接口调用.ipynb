{
 "cells": [
  {
   "cell_type": "markdown",
   "metadata": {},
   "source": [
    "# 13.3 补充知识点：人脸识别外部接口调用"
   ]
  },
  {
   "cell_type": "markdown",
   "metadata": {},
   "source": [
    "## 13.3.1 baidu-aip库安装"
   ]
  },
  {
   "cell_type": "markdown",
   "metadata": {},
   "source": [
    "pip install baidu-aip"
   ]
  },
  {
   "cell_type": "markdown",
   "metadata": {},
   "source": [
    "## 13.3.2 调用接口进行人脸识别和打分"
   ]
  },
  {
   "cell_type": "code",
   "execution_count": 5,
   "metadata": {},
   "outputs": [
    {
     "name": "stdout",
     "output_type": "stream",
     "text": [
      "{'error_code': 0, 'error_msg': 'SUCCESS', 'log_id': 149141135, 'timestamp': 1643886149, 'cached': 0, 'result': {'face_num': 1, 'face_list': [{'face_token': 'ea38c102b8e5f1dd1d57e79d2b347b06', 'location': {'left': 1322.12, 'top': 1152.25, 'width': 1119, 'height': 1060, 'rotation': 0}, 'face_probability': 1, 'angle': {'yaw': -3.24, 'pitch': 9.35, 'roll': -0.51}, 'age': 25, 'gender': {'type': 'male', 'probability': 1}, 'beauty': 73.44}]}}\n",
      "年龄预测为：25\n",
      "性别预测为：male\n",
      "颜值评分为：73.44\n"
     ]
    }
   ],
   "source": [
    "from aip import AipFace\n",
    "import base64\n",
    "\n",
    "# 下面3行内容为自己的APP_ID,API_KEY,SECRET_KEY\n",
    "APP_ID = '16994639'    #  '25572406'\n",
    "API_KEY = 'L9XnkKQEMnHhB5omF2P8D9OM'   #'FFg2mnhYI8dD46uenYXjzhlg'\n",
    "SECRET_KEY = 'nnOZDoruZ6AjVglBs6ecvUjFRIAKrn9T' #'ra9rPr3E4wuonUAEB7X1x41aKnh7qFy7'\n",
    "\n",
    "# 把上面输入的账号信息传入接口\n",
    "aipFace = AipFace(APP_ID, API_KEY, SECRET_KEY)\n",
    "\n",
    "# 下面一行内容为需要识别的人脸图片的地址，其他地方就不用改了\n",
    "filePath = r'王宇韬.jpg'\n",
    "\n",
    "# 定义打开文件的函数\n",
    "def get_file_content(filePath):\n",
    "    with open(filePath, 'rb') as fp:\n",
    "        content = base64.b64encode(fp.read())\n",
    "        return content.decode('utf-8')\n",
    "\n",
    "imageType = \"BASE64\"\n",
    "\n",
    "# 选择最后要展示的内容，这里展示age（年龄）；gender（性别）；beauty（颜值）\n",
    "options = {}\n",
    "options[\"face_field\"] = \"age,gender,beauty\"\n",
    "\n",
    "# 调用接口aipFace的detect()函数进行人脸识别，打印结果\n",
    "result = aipFace.detect(get_file_content(filePath), imageType, options)\n",
    "print(result)\n",
    "\n",
    "# 打印具体信息，本质就是列表索引和字典的键值对应\n",
    "age = result['result']['face_list'][0]['age']\n",
    "print('年龄预测为：' + str(age))\n",
    "gender = result['result']['face_list'][0]['gender']['type']\n",
    "print('性别预测为：' + gender)\n",
    "beauty = result['result']['face_list'][0]['beauty']\n",
    "print('颜值评分为：' + str(beauty))"
   ]
  },
  {
   "cell_type": "code",
   "execution_count": null,
   "metadata": {},
   "outputs": [],
   "source": []
  }
 ],
 "metadata": {
  "kernelspec": {
   "display_name": "Python 3 (ipykernel)",
   "language": "python",
   "name": "python3"
  },
  "language_info": {
   "codemirror_mode": {
    "name": "ipython",
    "version": 3
   },
   "file_extension": ".py",
   "mimetype": "text/x-python",
   "name": "python",
   "nbconvert_exporter": "python",
   "pygments_lexer": "ipython3",
   "version": "3.9.13"
  },
  "toc": {
   "base_numbering": 1,
   "nav_menu": {},
   "number_sections": false,
   "sideBar": true,
   "skip_h1_title": false,
   "title_cell": "Table of Contents",
   "title_sidebar": "Contents",
   "toc_cell": false,
   "toc_position": {},
   "toc_section_display": true,
   "toc_window_display": true
  }
 },
 "nbformat": 4,
 "nbformat_minor": 2
}
