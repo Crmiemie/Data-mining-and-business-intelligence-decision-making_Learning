{
 "cells": [
  {
   "cell_type": "markdown",
   "metadata": {},
   "source": [
    "# 补充知识点2：新闻爬取 - 百度新闻爬虫"
   ]
  },
  {
   "cell_type": "markdown",
   "metadata": {},
   "source": [
    "百度新闻爬虫的相关知识点在笔者的上一本书《Python金融大数据挖掘与分析全流程详解》（https://item.jd.com/12568751.html?dist=jd）\n",
    "\n",
    "第三章“金融数据挖掘案例实战1”中有详细的讲解，这里结合了本书第二章pandas库的相关知识点将数据进行整合，并导出成Excel文件方便使用。\n",
    "\n",
    "因为核心知识点在上一本书已经描述的较为详细，所以这里就不在赘述，通过如下代码可以爬取百度新闻多页多个关键词。"
   ]
  },
  {
   "cell_type": "code",
   "execution_count": 2,
   "metadata": {
    "ExecuteTime": {
     "end_time": "2020-12-16T06:12:26.605035Z",
     "start_time": "2020-12-16T06:11:24.679567Z"
    }
   },
   "outputs": [],
   "source": [
    "import requests\n",
    "import re\n",
    "headers = {'User-Agent': 'Mozilla/5.0 (Windows NT 10.0; Win64; x64) AppleWebKit/537.36 (KHTML, like Gecko) Chrome/69.0.3497.100 Safari/537.36'}\n",
    "\n",
    "def baidu(keyword, page):  # 定义函数，方便之后批量调用\n",
    "    num = (page - 1) * 10\n",
    "    url = 'https://www.baidu.com/s?tn=news&rtt=4&bsst=1&cl=2&wd=' + keyword + '&pn=' + str(num)\n",
    "    res = requests.get(url, headers=headers).text  # 通过requests库爬虫\n",
    "    \n",
    "    # 正则提取信息 - 网址和标题\n",
    "    p_href = '<h3 class=\"news-title_1YtI1\"><a href=\"(.*?)\"'\n",
    "    href = re.findall(p_href, res)\n",
    "    p_title = '<h3 class=\"news-title_1YtI1\">.*?>(.*?)</a>'\n",
    "    title = re.findall(p_title, res, re.S)\n",
    "    # 正则提取信息 - 日期和来源\n",
    "    p_date = '<span class=\"c-color-gray2 c-font-normal\">(.*?)</span>'\n",
    "    date = re.findall(p_date, res)\n",
    "    p_source = '<span class=\"c-color-gray c-font-normal c-gap-right\">(.*?)</span>'\n",
    "    source = re.findall(p_source, res)\n",
    "\n",
    "    # 数据清洗\n",
    "    for i in range(len(title)):  # range(len(title)),这里因为知道len(title) = 10，所以也可以写成for i in range(10)\n",
    "        title[i] = re.sub('<.*?>', '', title[i])  # 核心，用re.sub()函数来替换不重要的内容\n",
    "        print(str(i + 1) + '.' + title[i] + ' ' + source[i] + ' ' + date[i])  # 这个是纯字符串拼接\n",
    "        print(href[i])\n",
    "    \n",
    "    # 通过2.2.1节字典生成二维DataFrame表格   \n",
    "    result = pd.DataFrame({'关键词': keyword, '标题': title, '网址': href, '来源': source, '日期': date})\n",
    "    return result "
   ]
  },
  {
   "cell_type": "code",
   "execution_count": 3,
   "metadata": {},
   "outputs": [
    {
     "ename": "IndexError",
     "evalue": "list index out of range",
     "output_type": "error",
     "traceback": [
      "\u001b[1;31m---------------------------------------------------------------------------\u001b[0m",
      "\u001b[1;31mIndexError\u001b[0m                                Traceback (most recent call last)",
      "\u001b[1;32m<ipython-input-3-20c74017e85f>\u001b[0m in \u001b[0;36m<module>\u001b[1;34m\u001b[0m\n\u001b[0;32m      6\u001b[0m \u001b[1;32mfor\u001b[0m \u001b[0mkeyword\u001b[0m \u001b[1;32min\u001b[0m \u001b[0mkeywords\u001b[0m\u001b[1;33m:\u001b[0m\u001b[1;33m\u001b[0m\u001b[1;33m\u001b[0m\u001b[0m\n\u001b[0;32m      7\u001b[0m     \u001b[1;32mfor\u001b[0m \u001b[0mi\u001b[0m \u001b[1;32min\u001b[0m \u001b[0mrange\u001b[0m\u001b[1;33m(\u001b[0m\u001b[1;36m10\u001b[0m\u001b[1;33m)\u001b[0m\u001b[1;33m:\u001b[0m  \u001b[1;31m# 循环10遍，获取10页的信息\u001b[0m\u001b[1;33m\u001b[0m\u001b[1;33m\u001b[0m\u001b[0m\n\u001b[1;32m----> 8\u001b[1;33m         \u001b[0mresult\u001b[0m \u001b[1;33m=\u001b[0m \u001b[0mbaidu\u001b[0m\u001b[1;33m(\u001b[0m\u001b[0mkeyword\u001b[0m\u001b[1;33m,\u001b[0m \u001b[0mi\u001b[0m\u001b[1;33m+\u001b[0m\u001b[1;36m1\u001b[0m\u001b[1;33m)\u001b[0m\u001b[1;33m\u001b[0m\u001b[1;33m\u001b[0m\u001b[0m\n\u001b[0m\u001b[0;32m      9\u001b[0m         \u001b[0mdf\u001b[0m \u001b[1;33m=\u001b[0m \u001b[0mdf\u001b[0m\u001b[1;33m.\u001b[0m\u001b[0mappend\u001b[0m\u001b[1;33m(\u001b[0m\u001b[0mresult\u001b[0m\u001b[1;33m)\u001b[0m  \u001b[1;31m# 通过append()函数添加每条信息到df中\u001b[0m\u001b[1;33m\u001b[0m\u001b[1;33m\u001b[0m\u001b[0m\n\u001b[0;32m     10\u001b[0m         \u001b[0mprint\u001b[0m\u001b[1;33m(\u001b[0m\u001b[0mkeyword\u001b[0m \u001b[1;33m+\u001b[0m \u001b[1;34m'第'\u001b[0m \u001b[1;33m+\u001b[0m \u001b[0mstr\u001b[0m\u001b[1;33m(\u001b[0m\u001b[0mi\u001b[0m\u001b[1;33m+\u001b[0m\u001b[1;36m1\u001b[0m\u001b[1;33m)\u001b[0m \u001b[1;33m+\u001b[0m \u001b[1;34m'页爬取成功'\u001b[0m\u001b[1;33m)\u001b[0m\u001b[1;33m\u001b[0m\u001b[1;33m\u001b[0m\u001b[0m\n",
      "\u001b[1;32m<ipython-input-2-d9d3902bb1fe>\u001b[0m in \u001b[0;36mbaidu\u001b[1;34m(keyword, page)\u001b[0m\n\u001b[0;32m     22\u001b[0m     \u001b[1;32mfor\u001b[0m \u001b[0mi\u001b[0m \u001b[1;32min\u001b[0m \u001b[0mrange\u001b[0m\u001b[1;33m(\u001b[0m\u001b[0mlen\u001b[0m\u001b[1;33m(\u001b[0m\u001b[0mtitle\u001b[0m\u001b[1;33m)\u001b[0m\u001b[1;33m)\u001b[0m\u001b[1;33m:\u001b[0m  \u001b[1;31m# range(len(title)),这里因为知道len(title) = 10，所以也可以写成for i in range(10)\u001b[0m\u001b[1;33m\u001b[0m\u001b[1;33m\u001b[0m\u001b[0m\n\u001b[0;32m     23\u001b[0m         \u001b[0mtitle\u001b[0m\u001b[1;33m[\u001b[0m\u001b[0mi\u001b[0m\u001b[1;33m]\u001b[0m \u001b[1;33m=\u001b[0m \u001b[0mre\u001b[0m\u001b[1;33m.\u001b[0m\u001b[0msub\u001b[0m\u001b[1;33m(\u001b[0m\u001b[1;34m'<.*?>'\u001b[0m\u001b[1;33m,\u001b[0m \u001b[1;34m''\u001b[0m\u001b[1;33m,\u001b[0m \u001b[0mtitle\u001b[0m\u001b[1;33m[\u001b[0m\u001b[0mi\u001b[0m\u001b[1;33m]\u001b[0m\u001b[1;33m)\u001b[0m  \u001b[1;31m# 核心，用re.sub()函数来替换不重要的内容\u001b[0m\u001b[1;33m\u001b[0m\u001b[1;33m\u001b[0m\u001b[0m\n\u001b[1;32m---> 24\u001b[1;33m         \u001b[0mprint\u001b[0m\u001b[1;33m(\u001b[0m\u001b[0mstr\u001b[0m\u001b[1;33m(\u001b[0m\u001b[0mi\u001b[0m \u001b[1;33m+\u001b[0m \u001b[1;36m1\u001b[0m\u001b[1;33m)\u001b[0m \u001b[1;33m+\u001b[0m \u001b[1;34m'.'\u001b[0m \u001b[1;33m+\u001b[0m \u001b[0mtitle\u001b[0m\u001b[1;33m[\u001b[0m\u001b[0mi\u001b[0m\u001b[1;33m]\u001b[0m \u001b[1;33m+\u001b[0m \u001b[1;34m' '\u001b[0m \u001b[1;33m+\u001b[0m \u001b[0msource\u001b[0m\u001b[1;33m[\u001b[0m\u001b[0mi\u001b[0m\u001b[1;33m]\u001b[0m \u001b[1;33m+\u001b[0m \u001b[1;34m' '\u001b[0m \u001b[1;33m+\u001b[0m \u001b[0mdate\u001b[0m\u001b[1;33m[\u001b[0m\u001b[0mi\u001b[0m\u001b[1;33m]\u001b[0m\u001b[1;33m)\u001b[0m  \u001b[1;31m# 这个是纯字符串拼接\u001b[0m\u001b[1;33m\u001b[0m\u001b[1;33m\u001b[0m\u001b[0m\n\u001b[0m\u001b[0;32m     25\u001b[0m         \u001b[0mprint\u001b[0m\u001b[1;33m(\u001b[0m\u001b[0mhref\u001b[0m\u001b[1;33m[\u001b[0m\u001b[0mi\u001b[0m\u001b[1;33m]\u001b[0m\u001b[1;33m)\u001b[0m\u001b[1;33m\u001b[0m\u001b[1;33m\u001b[0m\u001b[0m\n\u001b[0;32m     26\u001b[0m \u001b[1;33m\u001b[0m\u001b[0m\n",
      "\u001b[1;31mIndexError\u001b[0m: list index out of range"
     ]
    }
   ],
   "source": [
    "# 通过pandas库将数据进行整合并导出为Excel\n",
    "import pandas as pd  \n",
    "df = pd.DataFrame()\n",
    "    \n",
    "keywords = ['华能信托', '人工智能', '科技', '体育', 'Python', '娱乐', '文化', '阿里巴巴', '腾讯', '京东']\n",
    "for keyword in keywords:\n",
    "    for i in range(10):  # 循环10遍，获取10页的信息\n",
    "        result = baidu(keyword, i+1)\n",
    "        df = df.append(result)  # 通过append()函数添加每条信息到df中\n",
    "        print(keyword + '第' + str(i+1) + '页爬取成功')\n",
    "\n",
    "df.to_excel('新闻_new.xlsx')  # 在代码所在文件夹生成EXCEL文件"
   ]
  },
  {
   "cell_type": "code",
   "execution_count": 2,
   "metadata": {
    "ExecuteTime": {
     "end_time": "2020-12-16T06:17:07.757000Z",
     "start_time": "2020-12-16T06:17:07.730071Z"
    }
   },
   "outputs": [
    {
     "data": {
      "text/html": [
       "<div>\n",
       "<style scoped>\n",
       "    .dataframe tbody tr th:only-of-type {\n",
       "        vertical-align: middle;\n",
       "    }\n",
       "\n",
       "    .dataframe tbody tr th {\n",
       "        vertical-align: top;\n",
       "    }\n",
       "\n",
       "    .dataframe thead th {\n",
       "        text-align: right;\n",
       "    }\n",
       "</style>\n",
       "<table border=\"1\" class=\"dataframe\">\n",
       "  <thead>\n",
       "    <tr style=\"text-align: right;\">\n",
       "      <th></th>\n",
       "      <th>关键词</th>\n",
       "      <th>标题</th>\n",
       "      <th>网址</th>\n",
       "      <th>来源</th>\n",
       "      <th>日期</th>\n",
       "    </tr>\n",
       "  </thead>\n",
       "  <tbody>\n",
       "    <tr>\n",
       "      <th>0</th>\n",
       "      <td>华能信托</td>\n",
       "      <td>盈峰环境(000967.SZ):华能信托卖出586.27万张盈峰转债</td>\n",
       "      <td>https://baijiahao.baidu.com/s?id=1685054571206...</td>\n",
       "      <td>智通财经</td>\n",
       "      <td>2020年12月3日 19:01</td>\n",
       "    </tr>\n",
       "    <tr>\n",
       "      <th>1</th>\n",
       "      <td>华能信托</td>\n",
       "      <td>盈峰环境(000967.SZ):华能信托卖出盈峰转债合计586.2664万张</td>\n",
       "      <td>http://sc.stock.cnfol.com/ggzixun/20201203/285...</td>\n",
       "      <td>中金在线</td>\n",
       "      <td>2020年12月3日 18:37</td>\n",
       "    </tr>\n",
       "    <tr>\n",
       "      <th>2</th>\n",
       "      <td>华能信托</td>\n",
       "      <td>盈峰环境:华能信托于2日购买盈峰转债合计672.4万张</td>\n",
       "      <td>https://baijiahao.baidu.com/s?id=1685027676162...</td>\n",
       "      <td>金融界</td>\n",
       "      <td>2020年12月3日 11:50</td>\n",
       "    </tr>\n",
       "    <tr>\n",
       "      <th>3</th>\n",
       "      <td>华能信托</td>\n",
       "      <td>信托日报(12月3日)</td>\n",
       "      <td>https://baijiahao.baidu.com/s?id=1685018534787...</td>\n",
       "      <td>财联社</td>\n",
       "      <td>2020年12月3日 09:04</td>\n",
       "    </tr>\n",
       "    <tr>\n",
       "      <th>4</th>\n",
       "      <td>华能信托</td>\n",
       "      <td>...华润信托、中粮信托、五矿信托、华能信托、光大信托、华鑫信托...</td>\n",
       "      <td>https://www.otcbeta.com/kx/35b2e0bc9e546cb10ef...</td>\n",
       "      <td>市商网</td>\n",
       "      <td>2020年12月3日 06:19</td>\n",
       "    </tr>\n",
       "  </tbody>\n",
       "</table>\n",
       "</div>"
      ],
      "text/plain": [
       "    关键词                                      标题  \\\n",
       "0  华能信托      盈峰环境(000967.SZ):华能信托卖出586.27万张盈峰转债   \n",
       "1  华能信托  盈峰环境(000967.SZ):华能信托卖出盈峰转债合计586.2664万张   \n",
       "2  华能信托             盈峰环境:华能信托于2日购买盈峰转债合计672.4万张   \n",
       "3  华能信托                             信托日报(12月3日)   \n",
       "4  华能信托     ...华润信托、中粮信托、五矿信托、华能信托、光大信托、华鑫信托...   \n",
       "\n",
       "                                                  网址    来源                日期  \n",
       "0  https://baijiahao.baidu.com/s?id=1685054571206...  智通财经  2020年12月3日 19:01  \n",
       "1  http://sc.stock.cnfol.com/ggzixun/20201203/285...  中金在线  2020年12月3日 18:37  \n",
       "2  https://baijiahao.baidu.com/s?id=1685027676162...   金融界  2020年12月3日 11:50  \n",
       "3  https://baijiahao.baidu.com/s?id=1685018534787...   财联社  2020年12月3日 09:04  \n",
       "4  https://www.otcbeta.com/kx/35b2e0bc9e546cb10ef...   市商网  2020年12月3日 06:19  "
      ]
     },
     "execution_count": 2,
     "metadata": {},
     "output_type": "execute_result"
    }
   ],
   "source": [
    "df.head()"
   ]
  }
 ],
 "metadata": {
  "kernelspec": {
   "display_name": "Python 3",
   "language": "python",
   "name": "python3"
  },
  "language_info": {
   "codemirror_mode": {
    "name": "ipython",
    "version": 3
   },
   "file_extension": ".py",
   "mimetype": "text/x-python",
   "name": "python",
   "nbconvert_exporter": "python",
   "pygments_lexer": "ipython3",
   "version": "3.7.3"
  },
  "toc": {
   "base_numbering": 1,
   "nav_menu": {},
   "number_sections": false,
   "sideBar": true,
   "skip_h1_title": false,
   "title_cell": "Table of Contents",
   "title_sidebar": "Contents",
   "toc_cell": false,
   "toc_position": {},
   "toc_section_display": true,
   "toc_window_display": true
  },
  "varInspector": {
   "cols": {
    "lenName": 16,
    "lenType": 16,
    "lenVar": 40
   },
   "kernels_config": {
    "python": {
     "delete_cmd_postfix": "",
     "delete_cmd_prefix": "del ",
     "library": "var_list.py",
     "varRefreshCmd": "print(var_dic_list())"
    },
    "r": {
     "delete_cmd_postfix": ") ",
     "delete_cmd_prefix": "rm(",
     "library": "var_list.r",
     "varRefreshCmd": "cat(var_dic_list()) "
    }
   },
   "types_to_exclude": [
    "module",
    "function",
    "builtin_function_or_method",
    "instance",
    "_Feature"
   ],
   "window_display": false
  }
 },
 "nbformat": 4,
 "nbformat_minor": 2
}
